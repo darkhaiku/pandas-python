{
 "cells": [
  {
   "cell_type": "code",
   "execution_count": 1,
   "metadata": {},
   "outputs": [],
   "source": [
    "import pandas as pd"
   ]
  },
  {
   "cell_type": "code",
   "execution_count": 2,
   "metadata": {},
   "outputs": [],
   "source": [
    "import sqlite3"
   ]
  },
  {
   "cell_type": "code",
   "execution_count": 3,
   "metadata": {},
   "outputs": [],
   "source": [
    "cnx = sqlite3.connect('better_breakfasts_complete.db')"
   ]
  },
  {
   "cell_type": "code",
   "execution_count": 4,
   "metadata": {},
   "outputs": [],
   "source": [
    "venue = pd.read_sql_query(\"SELECT * FROM venue\", cnx)"
   ]
  },
  {
   "cell_type": "code",
   "execution_count": 5,
   "metadata": {},
   "outputs": [
    {
     "data": {
      "text/html": [
       "<div>\n",
       "<style scoped>\n",
       "    .dataframe tbody tr th:only-of-type {\n",
       "        vertical-align: middle;\n",
       "    }\n",
       "\n",
       "    .dataframe tbody tr th {\n",
       "        vertical-align: top;\n",
       "    }\n",
       "\n",
       "    .dataframe thead th {\n",
       "        text-align: right;\n",
       "    }\n",
       "</style>\n",
       "<table border=\"1\" class=\"dataframe\">\n",
       "  <thead>\n",
       "    <tr style=\"text-align: right;\">\n",
       "      <th></th>\n",
       "      <th>id</th>\n",
       "      <th>fid</th>\n",
       "      <th>latitude</th>\n",
       "      <th>longitude</th>\n",
       "      <th>name</th>\n",
       "      <th>price</th>\n",
       "      <th>rating</th>\n",
       "      <th>ratingSignals</th>\n",
       "      <th>url</th>\n",
       "    </tr>\n",
       "  </thead>\n",
       "  <tbody>\n",
       "    <tr>\n",
       "      <th>0</th>\n",
       "      <td>1</td>\n",
       "      <td>53a05de7498e51117e0e9808</td>\n",
       "      <td>53.484175</td>\n",
       "      <td>-2.238826</td>\n",
       "      <td>Federal</td>\n",
       "      <td>2</td>\n",
       "      <td>9.1</td>\n",
       "      <td>156</td>\n",
       "      <td></td>\n",
       "    </tr>\n",
       "    <tr>\n",
       "      <th>1</th>\n",
       "      <td>2</td>\n",
       "      <td>54ae8926498e57df8beb383f</td>\n",
       "      <td>53.483096</td>\n",
       "      <td>-2.238081</td>\n",
       "      <td>Northern Soul • Grilled Cheese</td>\n",
       "      <td>2</td>\n",
       "      <td>9.0</td>\n",
       "      <td>75</td>\n",
       "      <td></td>\n",
       "    </tr>\n",
       "    <tr>\n",
       "      <th>2</th>\n",
       "      <td>3</td>\n",
       "      <td>510a65c1e4b0b1cb052384b3</td>\n",
       "      <td>53.484514</td>\n",
       "      <td>-2.237050</td>\n",
       "      <td>Luck Lust Liquor &amp; Burn</td>\n",
       "      <td>2</td>\n",
       "      <td>8.9</td>\n",
       "      <td>250</td>\n",
       "      <td></td>\n",
       "    </tr>\n",
       "    <tr>\n",
       "      <th>3</th>\n",
       "      <td>4</td>\n",
       "      <td>4bacb73bf964a5204f063be3</td>\n",
       "      <td>53.484738</td>\n",
       "      <td>-2.238108</td>\n",
       "      <td>This &amp; That</td>\n",
       "      <td>1</td>\n",
       "      <td>8.8</td>\n",
       "      <td>73</td>\n",
       "      <td>http://www.thisandthatcafe.co.uk/#V5kLQj</td>\n",
       "    </tr>\n",
       "    <tr>\n",
       "      <th>4</th>\n",
       "      <td>5</td>\n",
       "      <td>4af70c90f964a520300522e3</td>\n",
       "      <td>53.484822</td>\n",
       "      <td>-2.237971</td>\n",
       "      <td>Trof</td>\n",
       "      <td>1</td>\n",
       "      <td>8.7</td>\n",
       "      <td>205</td>\n",
       "      <td>http://www.trofnq.co.uk</td>\n",
       "    </tr>\n",
       "  </tbody>\n",
       "</table>\n",
       "</div>"
      ],
      "text/plain": [
       "   id                       fid   latitude  longitude  \\\n",
       "0   1  53a05de7498e51117e0e9808  53.484175  -2.238826   \n",
       "1   2  54ae8926498e57df8beb383f  53.483096  -2.238081   \n",
       "2   3  510a65c1e4b0b1cb052384b3  53.484514  -2.237050   \n",
       "3   4  4bacb73bf964a5204f063be3  53.484738  -2.238108   \n",
       "4   5  4af70c90f964a520300522e3  53.484822  -2.237971   \n",
       "\n",
       "                             name  price  rating  ratingSignals  \\\n",
       "0                         Federal      2     9.1            156   \n",
       "1  Northern Soul • Grilled Cheese      2     9.0             75   \n",
       "2         Luck Lust Liquor & Burn      2     8.9            250   \n",
       "3                     This & That      1     8.8             73   \n",
       "4                            Trof      1     8.7            205   \n",
       "\n",
       "                                        url  \n",
       "0                                            \n",
       "1                                            \n",
       "2                                            \n",
       "3  http://www.thisandthatcafe.co.uk/#V5kLQj  \n",
       "4                   http://www.trofnq.co.uk  "
      ]
     },
     "execution_count": 5,
     "metadata": {},
     "output_type": "execute_result"
    }
   ],
   "source": [
    "venue.head()"
   ]
  },
  {
   "cell_type": "code",
   "execution_count": null,
   "metadata": {},
   "outputs": [],
   "source": []
  }
 ],
 "metadata": {
  "kernelspec": {
   "display_name": "Python 3.9.12 ('base')",
   "language": "python",
   "name": "python3"
  },
  "language_info": {
   "codemirror_mode": {
    "name": "ipython",
    "version": 3
   },
   "file_extension": ".py",
   "mimetype": "text/x-python",
   "name": "python",
   "nbconvert_exporter": "python",
   "pygments_lexer": "ipython3",
   "version": "3.9.12"
  },
  "orig_nbformat": 4,
  "vscode": {
   "interpreter": {
    "hash": "ad2bdc8ecc057115af97d19610ffacc2b4e99fae6737bb82f5d7fb13d2f2c186"
   }
  }
 },
 "nbformat": 4,
 "nbformat_minor": 2
}
